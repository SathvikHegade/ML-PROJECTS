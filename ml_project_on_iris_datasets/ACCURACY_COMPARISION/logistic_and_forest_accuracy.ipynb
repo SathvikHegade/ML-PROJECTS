{
  "cells": [
    {
      "cell_type": "code",
      "execution_count": null,
      "metadata": {
        "id": "PbIToRn7M7b6"
      },
      "outputs": [],
      "source": [
        "from sklearn.model_selection import train_test_split\n",
        "from sklearn.datasets import load_iris\n",
        "from sklearn.preprocessing import StandardScaler\n",
        "from sklearn.ensemble import RandomForestClassifier\n",
        "from sklearn.metrics import accuracy_score,classification_report,confusion_matrix\n",
        "from sklearn.linear_model import LogisticRegression\n",
        "import pandas as pd\n",
        "import numpy as np\n",
        "import matplotlib.pyplot as plt\n",
        "import seaborn as sns\n",
        "from sklearn.model_selection import GridSearchCV"
      ]
    },
    {
      "cell_type": "code",
      "execution_count": null,
      "metadata": {
        "colab": {
          "base_uri": "https://localhost:8080/"
        },
        "id": "5b_dNbMHQdIZ",
        "outputId": "5e1674b5-1968-485b-b1f1-45e80d9517eb"
      },
      "outputs": [
        {
          "output_type": "stream",
          "name": "stdout",
          "text": [
            "original dataset shape: (150, 5)\n",
            "   sepal length (cm)  sepal width (cm)  petal length (cm)  petal width (cm)  \\\n",
            "0                5.1               3.5                1.4               0.2   \n",
            "1                4.9               3.0                1.4               0.2   \n",
            "2                4.7               3.2                1.3               0.2   \n",
            "3                4.6               3.1                1.5               0.2   \n",
            "4                5.0               3.6                1.4               0.2   \n",
            "\n",
            "  species  \n",
            "0  setosa  \n",
            "1  setosa  \n",
            "2  setosa  \n",
            "3  setosa  \n",
            "4  setosa  \n",
            "object\n"
          ]
        }
      ],
      "source": [
        "iris=load_iris()\n",
        "df=pd.DataFrame(iris.data,columns=iris.feature_names)\n",
        "\n",
        "X=iris.data\n",
        "y=iris.target\n",
        "df[\"species\"]=y\n",
        "df[\"species\"]=df[\"species\"].map({0:\"setosa\",1:\"versicular\",2:\"verginica\"})\n",
        "print(\"original dataset shape:\",df.shape)\n",
        "print(df.head())\n",
        "print(df[\"species\"].dtypes)\n"
      ]
    },
    {
      "cell_type": "code",
      "execution_count": null,
      "metadata": {
        "colab": {
          "base_uri": "https://localhost:8080/"
        },
        "id": "26gxT9F9UK4l",
        "outputId": "c118ecea-6023-4115-dd16-0b5f709f0f18"
      },
      "outputs": [
        {
          "output_type": "stream",
          "name": "stdout",
          "text": [
            "total null values: sepal length (cm)    8\n",
            "sepal width (cm)     8\n",
            "petal length (cm)    8\n",
            "petal width (cm)     8\n",
            "species              0\n",
            "dtype: int64\n"
          ]
        }
      ],
      "source": [
        "np.random.seed(42)\n",
        "for col in df.columns[:-1]:\n",
        "  df.loc[df.sample(frac=0.05).index, col] = np.nan\n",
        "print(\"total null values:\",df.isnull().sum())"
      ]
    },
    {
      "cell_type": "code",
      "execution_count": null,
      "metadata": {
        "colab": {
          "base_uri": "https://localhost:8080/"
        },
        "id": "pxjyFRhBXsDT",
        "outputId": "decb35f8-7e12-4a22-e872-de8c15365897"
      },
      "outputs": [
        {
          "output_type": "stream",
          "name": "stdout",
          "text": [
            "sepal length (cm)    0\n",
            "sepal width (cm)     0\n",
            "petal length (cm)    0\n",
            "petal width (cm)     0\n",
            "species              0\n",
            "dtype: int64\n"
          ]
        },
        {
          "output_type": "stream",
          "name": "stderr",
          "text": [
            "/tmp/ipython-input-529884751.py:2: FutureWarning: A value is trying to be set on a copy of a DataFrame or Series through chained assignment using an inplace method.\n",
            "The behavior will change in pandas 3.0. This inplace method will never work because the intermediate object on which we are setting values always behaves as a copy.\n",
            "\n",
            "For example, when doing 'df[col].method(value, inplace=True)', try using 'df.method({col: value}, inplace=True)' or df[col] = df[col].method(value) instead, to perform the operation inplace on the original object.\n",
            "\n",
            "\n",
            "  df[col].fillna(df[col].mean(),inplace=True)\n"
          ]
        }
      ],
      "source": [
        "for col in df.columns[:-1]:\n",
        "  df[col].fillna(df[col].mean(),inplace=True)\n",
        "\n",
        "\n",
        "df[\"species\"]=df[\"species\"].fillna(df[\"species\"].mode()[0])\n",
        "print(df.isnull().sum())"
      ]
    },
    {
      "cell_type": "code",
      "execution_count": null,
      "metadata": {
        "id": "IWwS0wX2ZkVP"
      },
      "outputs": [],
      "source": [
        "X=df.drop(\"species\",axis=1)\n",
        "y=iris.target\n",
        "X_train,X_test,y_train,y_test=train_test_split(X,y,test_size=0.2,random_state=42)\n",
        "scalar=StandardScaler()\n",
        "X_train=scalar.fit_transform(X_train)\n",
        "X_test=scalar.transform(X_test)"
      ]
    },
    {
      "cell_type": "code",
      "execution_count": null,
      "metadata": {
        "id": "1lSHHaC_mIiB"
      },
      "outputs": [],
      "source": [
        "param_grid = {\n",
        "        'n_estimators': [100, 200, 300],\n",
        "        'max_depth': [None, 10, 20],\n",
        "        'min_samples_split': [2, 5, 10],\n",
        "        'min_samples_leaf': [1, 2, 4],\n",
        "        'bootstrap': [True, False]\n",
        "    }"
      ]
    },
    {
      "cell_type": "code",
      "execution_count": null,
      "metadata": {
        "id": "MRLH3GEMcc-y"
      },
      "outputs": [],
      "source": [
        "model=LogisticRegression()\n",
        "model.fit(X_train,y_train)\n",
        "y_pred_model=model.predict(X_test)"
      ]
    },
    {
      "cell_type": "code",
      "execution_count": null,
      "metadata": {
        "id": "JrJYVgSXc20r"
      },
      "outputs": [],
      "source": [
        "forest=RandomForestClassifier(n_estimators=200,random_state=42,max_depth=20,min_samples_leaf= 2,min_samples_split= 5)\n",
        "forest.fit(X_train,y_train)\n",
        "y_pred_forest=forest.predict(X_test)"
      ]
    },
    {
      "cell_type": "code",
      "execution_count": null,
      "metadata": {
        "colab": {
          "base_uri": "https://localhost:8080/"
        },
        "id": "edHqFJzCmKZQ",
        "outputId": "43591c71-97f4-4d37-b1f5-a0e6f137fb1b"
      },
      "outputs": [
        {
          "name": "stdout",
          "output_type": "stream",
          "text": [
            "Fitting 5 folds for each of 162 candidates, totalling 810 fits\n",
            "{'bootstrap': True, 'max_depth': None, 'min_samples_leaf': 2, 'min_samples_split': 10, 'n_estimators': 100}\n"
          ]
        }
      ],
      "source": [
        "grid=GridSearchCV(estimator=RandomForestClassifier(),param_grid=param_grid,cv=5,n_jobs=-1,verbose=2)\n",
        "grid.fit(X_train,y_train)\n",
        "print(grid.best_params_)"
      ]
    },
    {
      "cell_type": "code",
      "execution_count": null,
      "metadata": {
        "colab": {
          "base_uri": "https://localhost:8080/"
        },
        "id": "hKVKRduWpTQv",
        "outputId": "ffa62ce0-eac6-4234-d5f7-286684e2da01"
      },
      "outputs": [
        {
          "output_type": "stream",
          "name": "stdout",
          "text": [
            "random forest train accuracy 0.975\n",
            "random forest accuracy: 1.0\n",
            "confusion metrics for test data [[10  0  0]\n",
            " [ 0  9  0]\n",
            " [ 0  0 11]]\n",
            "confusion metrics for train data [[40  0  0]\n",
            " [ 0 39  2]\n",
            " [ 0  1 38]]\n"
          ]
        }
      ],
      "source": [
        "y_train_forest=forest.predict(X_train)\n",
        "print(\"random forest train accuracy\",accuracy_score(y_train,y_train_forest))\n",
        "print(\"random forest accuracy:\",accuracy_score(y_test,y_pred_forest))\n",
        "print(\"confusion metrics for test data\",confusion_matrix(y_test,y_pred_forest))\n",
        "print(\"confusion metrics for train data\",confusion_matrix(y_train,y_train_forest))"
      ]
    },
    {
      "cell_type": "code",
      "execution_count": null,
      "metadata": {
        "colab": {
          "base_uri": "https://localhost:8080/"
        },
        "id": "RyBTQGDee7IK",
        "outputId": "9f600360-dbdd-40cd-9434-922aac820187"
      },
      "outputs": [
        {
          "output_type": "stream",
          "name": "stdout",
          "text": [
            "logistic regression train accuracy 0.9333333333333333\n",
            "logistic regression accuracy: 0.9666666666666667\n",
            "confusion metrics for test data [[10  0  0]\n",
            " [ 0  9  0]\n",
            " [ 0  1 10]]\n",
            "confusion metrics for train data [[40  0  0]\n",
            " [ 0 37  4]\n",
            " [ 0  4 35]]\n"
          ]
        }
      ],
      "source": [
        "y_train_pred_model = model.predict(X_train)\n",
        "print(\"logistic regression train accuracy\", accuracy_score(y_train, y_train_pred_model))\n",
        "print(\"logistic regression accuracy:\",accuracy_score(y_test,y_pred_model))\n",
        "print(\"confusion metrics for test data\",confusion_matrix(y_test,y_pred_model))\n",
        "print(\"confusion metrics for train data\",confusion_matrix(y_train,y_train_pred_model))\n"
      ]
    },
    {
      "cell_type": "code",
      "execution_count": null,
      "metadata": {
        "colab": {
          "base_uri": "https://localhost:8080/",
          "height": 449
        },
        "id": "IjP1Obt9Ow0o",
        "outputId": "29fd689d-7767-4a11-fd65-922ffab74616"
      },
      "outputs": [
        {
          "output_type": "display_data",
          "data": {
            "text/plain": [
              "<Figure size 640x480 with 2 Axes>"
            ],
            "image/png": "[encoded data removed]"
          },
          "metadata": {}
        }
      ],
      "source": [
        "sns.heatmap(confusion_matrix(y_test, y_pred_forest), annot=True, fmt=\"d\", cmap=\"Blues\")\n",
        "plt.xlabel(\"Predicted\")\n",
        "plt.ylabel(\"Actual\")\n",
        "plt.show()"
      ]
    },
    {
      "cell_type": "code",
      "source": [
        "sns.heatmap(confusion_matrix(y_test,y_pred_model), annot=True, fmt=\"d\", cmap=\"Blues\")\n",
        "plt.xlabel(\"Predicted\")\n",
        "plt.ylabel(\"Actual\")\n",
        "plt.show()"
      ],
      "metadata": {
        "id": "b08j3Z0hg7rM",
        "outputId": "40a59a4b-fd0f-4700-fdb1-37e187fa4997",
        "colab": {
          "base_uri": "https://localhost:8080/",
          "height": 455
        }
      },
      "execution_count": null,
      "outputs": [
        {
          "output_type": "display_data",
          "data": {
            "text/plain": [
              "<Figure size 640x480 with 2 Axes>"
            ],
            "image/png": "[encoded data removed]"
          },
          "metadata": {}
        }
      ]
    }
  ],
  "metadata": {
    "colab": {
      "provenance": []
    },
    "kernelspec": {
      "display_name": "Python 3",
      "name": "python3"
    },
    "language_info": {
      "name": "python"
    }
  },
  "nbformat": 4,
  "nbformat_minor": 0
}