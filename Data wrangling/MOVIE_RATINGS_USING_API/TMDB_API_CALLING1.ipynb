{
 "cells": [
  {
   "cell_type": "code",
   "execution_count": 1,
   "id": "_OERhZtA7uES",
   "metadata": {
    "id": "_OERhZtA7uES"
   },
   "outputs": [],
   "source": [
    "import pandas as pd\n",
    "import requests"
   ]
  },
  {
   "cell_type": "code",
   "execution_count": 2,
   "id": "oos3OW4a7xGR",
   "metadata": {
    "id": "oos3OW4a7xGR"
   },
   "outputs": [],
   "source": [
    "response=requests.get(\"https://api.themoviedb.org/3/movie/top_rated?api_key=77edeb18e70fcf758435adbed4125fec&language=en-US&page=2\")"
   ]
  },
  {
   "cell_type": "code",
   "execution_count": 3,
   "id": "OrZ_rZtp70Wv",
   "metadata": {
    "id": "OrZ_rZtp70Wv"
   },
   "outputs": [],
   "source": [
    "temp_df=pd.DataFrame(response.json().get('results', []))[[\"id\",\"title\",\"overview\",\"release_date\",\"popularity\",\"vote_average\",\"vote_count\"]]"
   ]
  },
  {
   "cell_type": "code",
   "execution_count": 4,
   "id": "gzv9uR5-J-L1",
   "metadata": {
    "colab": {
     "base_uri": "https://localhost:8080/",
     "height": 1000
    },
    "id": "gzv9uR5-J-L1",
    "outputId": "3ea92419-4381-475b-e26c-cd3187f7fdf2"
   },
   "outputs": [
    {
     "data": {
      "text/html": [
       "<div>\n",
       "<style scoped>\n",
       "    .dataframe tbody tr th:only-of-type {\n",
       "        vertical-align: middle;\n",
       "    }\n",
       "\n",
       "    .dataframe tbody tr th {\n",
       "        vertical-align: top;\n",
       "    }\n",
       "\n",
       "    .dataframe thead th {\n",
       "        text-align: right;\n",
       "    }\n",
       "</style>\n",
       "<table border=\"1\" class=\"dataframe\">\n",
       "  <thead>\n",
       "    <tr style=\"text-align: right;\">\n",
       "      <th></th>\n",
       "      <th>id</th>\n",
       "      <th>title</th>\n",
       "      <th>overview</th>\n",
       "      <th>release_date</th>\n",
       "      <th>popularity</th>\n",
       "      <th>vote_average</th>\n",
       "      <th>vote_count</th>\n",
       "    </tr>\n",
       "  </thead>\n",
       "  <tbody>\n",
       "    <tr>\n",
       "      <th>0</th>\n",
       "      <td>550</td>\n",
       "      <td>Fight Club</td>\n",
       "      <td>A ticking-time-bomb insomniac and a slippery s...</td>\n",
       "      <td>1999-10-15</td>\n",
       "      <td>24.7029</td>\n",
       "      <td>8.438</td>\n",
       "      <td>30807</td>\n",
       "    </tr>\n",
       "    <tr>\n",
       "      <th>1</th>\n",
       "      <td>14537</td>\n",
       "      <td>Harakiri</td>\n",
       "      <td>Down-on-his-luck veteran Tsugumo Hanshirō ente...</td>\n",
       "      <td>1962-09-15</td>\n",
       "      <td>4.5690</td>\n",
       "      <td>8.434</td>\n",
       "      <td>1118</td>\n",
       "    </tr>\n",
       "    <tr>\n",
       "      <th>2</th>\n",
       "      <td>11216</td>\n",
       "      <td>Cinema Paradiso</td>\n",
       "      <td>A filmmaker recalls his childhood, when he fel...</td>\n",
       "      <td>1988-11-17</td>\n",
       "      <td>7.2379</td>\n",
       "      <td>8.400</td>\n",
       "      <td>4615</td>\n",
       "    </tr>\n",
       "    <tr>\n",
       "      <th>3</th>\n",
       "      <td>598</td>\n",
       "      <td>City of God</td>\n",
       "      <td>In the poverty-stricken favelas of Rio de Jane...</td>\n",
       "      <td>2002-08-30</td>\n",
       "      <td>8.9431</td>\n",
       "      <td>8.429</td>\n",
       "      <td>7810</td>\n",
       "    </tr>\n",
       "    <tr>\n",
       "      <th>4</th>\n",
       "      <td>667257</td>\n",
       "      <td>Impossible Things</td>\n",
       "      <td>After the death of her abusive husband, Matild...</td>\n",
       "      <td>2021-06-17</td>\n",
       "      <td>2.0708</td>\n",
       "      <td>8.427</td>\n",
       "      <td>413</td>\n",
       "    </tr>\n",
       "    <tr>\n",
       "      <th>5</th>\n",
       "      <td>40096</td>\n",
       "      <td>A Dog's Will</td>\n",
       "      <td>The lively João Grilo and the sly Chicó are po...</td>\n",
       "      <td>2000-09-15</td>\n",
       "      <td>1.7974</td>\n",
       "      <td>8.426</td>\n",
       "      <td>1183</td>\n",
       "    </tr>\n",
       "    <tr>\n",
       "      <th>6</th>\n",
       "      <td>120</td>\n",
       "      <td>The Lord of the Rings: The Fellowship of the Ring</td>\n",
       "      <td>Young hobbit Frodo Baggins, after inheriting a...</td>\n",
       "      <td>2001-12-18</td>\n",
       "      <td>22.9977</td>\n",
       "      <td>8.425</td>\n",
       "      <td>26417</td>\n",
       "    </tr>\n",
       "    <tr>\n",
       "      <th>7</th>\n",
       "      <td>539</td>\n",
       "      <td>Psycho</td>\n",
       "      <td>When larcenous real estate clerk Marion Crane ...</td>\n",
       "      <td>1960-06-22</td>\n",
       "      <td>8.2709</td>\n",
       "      <td>8.421</td>\n",
       "      <td>10523</td>\n",
       "    </tr>\n",
       "    <tr>\n",
       "      <th>8</th>\n",
       "      <td>510</td>\n",
       "      <td>One Flew Over the Cuckoo's Nest</td>\n",
       "      <td>A petty criminal fakes insanity to serve his s...</td>\n",
       "      <td>1975-11-19</td>\n",
       "      <td>8.0735</td>\n",
       "      <td>8.413</td>\n",
       "      <td>10967</td>\n",
       "    </tr>\n",
       "    <tr>\n",
       "      <th>9</th>\n",
       "      <td>121</td>\n",
       "      <td>The Lord of the Rings: The Two Towers</td>\n",
       "      <td>Frodo Baggins and the other members of the Fel...</td>\n",
       "      <td>2002-12-18</td>\n",
       "      <td>16.3115</td>\n",
       "      <td>8.409</td>\n",
       "      <td>22946</td>\n",
       "    </tr>\n",
       "    <tr>\n",
       "      <th>10</th>\n",
       "      <td>696374</td>\n",
       "      <td>Gabriel's Inferno</td>\n",
       "      <td>An intriguing and sinful exploration of seduct...</td>\n",
       "      <td>2020-05-29</td>\n",
       "      <td>3.7848</td>\n",
       "      <td>8.407</td>\n",
       "      <td>2433</td>\n",
       "    </tr>\n",
       "    <tr>\n",
       "      <th>11</th>\n",
       "      <td>311</td>\n",
       "      <td>Once Upon a Time in America</td>\n",
       "      <td>A former Prohibition-era Jewish gangster retur...</td>\n",
       "      <td>1984-05-23</td>\n",
       "      <td>6.8738</td>\n",
       "      <td>8.406</td>\n",
       "      <td>5741</td>\n",
       "    </tr>\n",
       "    <tr>\n",
       "      <th>12</th>\n",
       "      <td>255709</td>\n",
       "      <td>Hope</td>\n",
       "      <td>After 8-year-old So-won narrowly survives a br...</td>\n",
       "      <td>2013-10-02</td>\n",
       "      <td>4.5074</td>\n",
       "      <td>8.398</td>\n",
       "      <td>801</td>\n",
       "    </tr>\n",
       "    <tr>\n",
       "      <th>13</th>\n",
       "      <td>324857</td>\n",
       "      <td>Spider-Man: Into the Spider-Verse</td>\n",
       "      <td>Struggling to find his place in the world whil...</td>\n",
       "      <td>2018-12-06</td>\n",
       "      <td>14.3499</td>\n",
       "      <td>8.397</td>\n",
       "      <td>16475</td>\n",
       "    </tr>\n",
       "    <tr>\n",
       "      <th>14</th>\n",
       "      <td>4935</td>\n",
       "      <td>Howl's Moving Castle</td>\n",
       "      <td>Sophie, a young milliner, is turned into an el...</td>\n",
       "      <td>2004-09-09</td>\n",
       "      <td>13.6738</td>\n",
       "      <td>8.400</td>\n",
       "      <td>10545</td>\n",
       "    </tr>\n",
       "    <tr>\n",
       "      <th>15</th>\n",
       "      <td>1891</td>\n",
       "      <td>The Empire Strikes Back</td>\n",
       "      <td>The epic saga continues as Luke Skywalker, in ...</td>\n",
       "      <td>1980-05-20</td>\n",
       "      <td>6.7352</td>\n",
       "      <td>8.395</td>\n",
       "      <td>17711</td>\n",
       "    </tr>\n",
       "    <tr>\n",
       "      <th>16</th>\n",
       "      <td>378064</td>\n",
       "      <td>A Silent Voice: The Movie</td>\n",
       "      <td>Shouya Ishida starts bullying the new girl in ...</td>\n",
       "      <td>2016-09-17</td>\n",
       "      <td>10.4700</td>\n",
       "      <td>8.385</td>\n",
       "      <td>4231</td>\n",
       "    </tr>\n",
       "    <tr>\n",
       "      <th>17</th>\n",
       "      <td>770156</td>\n",
       "      <td>Lucy Shimmers and the Prince of Peace</td>\n",
       "      <td>Second chances start when a hardened criminal ...</td>\n",
       "      <td>2020-10-19</td>\n",
       "      <td>4.5670</td>\n",
       "      <td>8.400</td>\n",
       "      <td>320</td>\n",
       "    </tr>\n",
       "    <tr>\n",
       "      <th>18</th>\n",
       "      <td>423</td>\n",
       "      <td>The Pianist</td>\n",
       "      <td>The true story of pianist Władysław Szpilman's...</td>\n",
       "      <td>2002-09-17</td>\n",
       "      <td>7.7116</td>\n",
       "      <td>8.381</td>\n",
       "      <td>9698</td>\n",
       "    </tr>\n",
       "    <tr>\n",
       "      <th>19</th>\n",
       "      <td>244786</td>\n",
       "      <td>Whiplash</td>\n",
       "      <td>Under the direction of a ruthless instructor, ...</td>\n",
       "      <td>2014-10-10</td>\n",
       "      <td>12.5877</td>\n",
       "      <td>8.376</td>\n",
       "      <td>15937</td>\n",
       "    </tr>\n",
       "  </tbody>\n",
       "</table>\n",
       "</div>"
      ],
      "text/plain": [
       "        id                                              title  \\\n",
       "0      550                                         Fight Club   \n",
       "1    14537                                           Harakiri   \n",
       "2    11216                                    Cinema Paradiso   \n",
       "3      598                                        City of God   \n",
       "4   667257                                  Impossible Things   \n",
       "5    40096                                       A Dog's Will   \n",
       "6      120  The Lord of the Rings: The Fellowship of the Ring   \n",
       "7      539                                             Psycho   \n",
       "8      510                    One Flew Over the Cuckoo's Nest   \n",
       "9      121              The Lord of the Rings: The Two Towers   \n",
       "10  696374                                  Gabriel's Inferno   \n",
       "11     311                        Once Upon a Time in America   \n",
       "12  255709                                               Hope   \n",
       "13  324857                  Spider-Man: Into the Spider-Verse   \n",
       "14    4935                               Howl's Moving Castle   \n",
       "15    1891                            The Empire Strikes Back   \n",
       "16  378064                          A Silent Voice: The Movie   \n",
       "17  770156              Lucy Shimmers and the Prince of Peace   \n",
       "18     423                                        The Pianist   \n",
       "19  244786                                           Whiplash   \n",
       "\n",
       "                                             overview release_date  \\\n",
       "0   A ticking-time-bomb insomniac and a slippery s...   1999-10-15   \n",
       "1   Down-on-his-luck veteran Tsugumo Hanshirō ente...   1962-09-15   \n",
       "2   A filmmaker recalls his childhood, when he fel...   1988-11-17   \n",
       "3   In the poverty-stricken favelas of Rio de Jane...   2002-08-30   \n",
       "4   After the death of her abusive husband, Matild...   2021-06-17   \n",
       "5   The lively João Grilo and the sly Chicó are po...   2000-09-15   \n",
       "6   Young hobbit Frodo Baggins, after inheriting a...   2001-12-18   \n",
       "7   When larcenous real estate clerk Marion Crane ...   1960-06-22   \n",
       "8   A petty criminal fakes insanity to serve his s...   1975-11-19   \n",
       "9   Frodo Baggins and the other members of the Fel...   2002-12-18   \n",
       "10  An intriguing and sinful exploration of seduct...   2020-05-29   \n",
       "11  A former Prohibition-era Jewish gangster retur...   1984-05-23   \n",
       "12  After 8-year-old So-won narrowly survives a br...   2013-10-02   \n",
       "13  Struggling to find his place in the world whil...   2018-12-06   \n",
       "14  Sophie, a young milliner, is turned into an el...   2004-09-09   \n",
       "15  The epic saga continues as Luke Skywalker, in ...   1980-05-20   \n",
       "16  Shouya Ishida starts bullying the new girl in ...   2016-09-17   \n",
       "17  Second chances start when a hardened criminal ...   2020-10-19   \n",
       "18  The true story of pianist Władysław Szpilman's...   2002-09-17   \n",
       "19  Under the direction of a ruthless instructor, ...   2014-10-10   \n",
       "\n",
       "    popularity  vote_average  vote_count  \n",
       "0      24.7029         8.438       30807  \n",
       "1       4.5690         8.434        1118  \n",
       "2       7.2379         8.400        4615  \n",
       "3       8.9431         8.429        7810  \n",
       "4       2.0708         8.427         413  \n",
       "5       1.7974         8.426        1183  \n",
       "6      22.9977         8.425       26417  \n",
       "7       8.2709         8.421       10523  \n",
       "8       8.0735         8.413       10967  \n",
       "9      16.3115         8.409       22946  \n",
       "10      3.7848         8.407        2433  \n",
       "11      6.8738         8.406        5741  \n",
       "12      4.5074         8.398         801  \n",
       "13     14.3499         8.397       16475  \n",
       "14     13.6738         8.400       10545  \n",
       "15      6.7352         8.395       17711  \n",
       "16     10.4700         8.385        4231  \n",
       "17      4.5670         8.400         320  \n",
       "18      7.7116         8.381        9698  \n",
       "19     12.5877         8.376       15937  "
      ]
     },
     "execution_count": 4,
     "metadata": {},
     "output_type": "execute_result"
    }
   ],
   "source": [
    "temp_df"
   ]
  },
  {
   "cell_type": "code",
   "execution_count": 5,
   "id": "1Kk_hEzo72pN",
   "metadata": {
    "colab": {
     "base_uri": "https://localhost:8080/"
    },
    "id": "1Kk_hEzo72pN",
    "outputId": "59be15e5-1a16-435e-d6e6-b29bbd08bf77"
   },
   "outputs": [
    {
     "name": "stdout",
     "output_type": "stream",
     "text": [
      "          id                     title  \\\n",
      "0        278  The Shawshank Redemption   \n",
      "1        238             The Godfather   \n",
      "2        240     The Godfather Part II   \n",
      "3        424          Schindler's List   \n",
      "4        389              12 Angry Men   \n",
      "...      ...                       ...   \n",
      "9995    9624          On Deadly Ground   \n",
      "9996  632727   Texas Chainsaw Massacre   \n",
      "9997    9037                  Grease 2   \n",
      "9998   13184         Bangkok Dangerous   \n",
      "9999   11217                Club Dread   \n",
      "\n",
      "                                               overview release_date  \\\n",
      "0     Imprisoned in the 1940s for the double murder ...   1994-09-23   \n",
      "1     Spanning the years 1945 to 1955, a chronicle o...   1972-03-14   \n",
      "2     In the continuing saga of the Corleone crime f...   1974-12-20   \n",
      "3     The true story of how businessman Oskar Schind...   1993-12-15   \n",
      "4     The defense and the prosecution have rested an...   1957-04-10   \n",
      "...                                                 ...          ...   \n",
      "9995  Forrest Taft is an environmental agent who wor...   1994-02-18   \n",
      "9996  After nearly 50 years of hiding, Leatherface r...   2022-02-18   \n",
      "9997  It's 1961, two years after the original Grease...   1982-06-11   \n",
      "9998  When carrying out a hit, assassin Joe always m...   2008-08-21   \n",
      "9999  When a serial killer interrupts the fun at the...   2004-02-27   \n",
      "\n",
      "      popularity  vote_average  vote_count  \n",
      "0        28.6613         8.713       28944  \n",
      "1        28.7339         8.686       21877  \n",
      "2        17.1534         8.571       13218  \n",
      "3        13.0232         8.566       16732  \n",
      "4        12.2075         8.548        9423  \n",
      "...          ...           ...         ...  \n",
      "9995      1.8423         5.204         488  \n",
      "9996      3.4661         5.202        1552  \n",
      "9997      3.1151         5.200         704  \n",
      "9998      1.9101         5.200        1045  \n",
      "9999      1.7672         5.200         376  \n",
      "\n",
      "[10000 rows x 7 columns]\n"
     ]
    }
   ],
   "source": [
    "df=pd.DataFrame()\n",
    "df\n",
    "for i in range(1,501):\n",
    "  response = requests.get(\n",
    "    f\"https://api.themoviedb.org/3/movie/top_rated?api_key=77edeb18e70fcf758435adbed4125fec&language=en-US&page={i}\")\n",
    "  temp_df=pd.DataFrame(response.json().get('results', []))[[\"id\",\"title\",\"overview\",\"release_date\",\"popularity\",\"vote_average\",\"vote_count\"]]\n",
    "  df = pd.concat([df, temp_df], ignore_index=True)\n",
    "print(df)"
   ]
  },
  {
   "cell_type": "code",
   "execution_count": 29,
   "id": "GwnPVgEdOHbw",
   "metadata": {
    "id": "GwnPVgEdOHbw"
   },
   "outputs": [],
   "source": [
    "df = df.drop_duplicates(subset=[\"title\"], keep='first')"
   ]
  },
  {
   "cell_type": "code",
   "execution_count": 30,
   "id": "qAR2sd0SOKtA",
   "metadata": {
    "colab": {
     "base_uri": "https://localhost:8080/"
    },
    "id": "qAR2sd0SOKtA",
    "outputId": "904a29df-c2f2-4a17-9f09-45c261e5c002"
   },
   "outputs": [
    {
     "name": "stdout",
     "output_type": "stream",
     "text": [
      "Number of duplicate titles: 0\n"
     ]
    }
   ],
   "source": [
    "num_duplicates = df['title'].duplicated().sum()\n",
    "print(\"Number of duplicate titles:\", num_duplicates)"
   ]
  },
  {
   "cell_type": "code",
   "execution_count": 31,
   "id": "2AmNspHZOoha",
   "metadata": {
    "colab": {
     "base_uri": "https://localhost:8080/"
    },
    "id": "2AmNspHZOoha",
    "outputId": "0f478d92-ca56-4b9c-8955-a7538617e1b3"
   },
   "outputs": [
    {
     "name": "stdout",
     "output_type": "stream",
     "text": [
      "Number of duplicate id: 0\n"
     ]
    }
   ],
   "source": [
    "num_duplicates = df['id'].duplicated().sum()\n",
    "print(\"Number of duplicate id:\", num_duplicates)"
   ]
  },
  {
   "cell_type": "code",
   "execution_count": 32,
   "id": "655un_XTOod_",
   "metadata": {
    "colab": {
     "base_uri": "https://localhost:8080/"
    },
    "id": "655un_XTOod_",
    "outputId": "6d84ec3a-5801-4855-911d-858a9ab6d0ed"
   },
   "outputs": [
    {
     "name": "stdout",
     "output_type": "stream",
     "text": [
      "Number of duplicate overview: 0\n"
     ]
    }
   ],
   "source": [
    "df = df.drop_duplicates(subset='overview', keep='first')\n",
    "num_duplicates = df['overview'].duplicated().sum()\n",
    "print(\"Number of duplicate overview:\", num_duplicates)"
   ]
  },
  {
   "cell_type": "code",
   "execution_count": 33,
   "id": "Hv3vJN5gOobs",
   "metadata": {
    "colab": {
     "base_uri": "https://localhost:8080/"
    },
    "id": "Hv3vJN5gOobs",
    "outputId": "afcb62b0-4b68-4249-c1b4-a77f0e786ddf"
   },
   "outputs": [
    {
     "name": "stdout",
     "output_type": "stream",
     "text": [
      "Number of duplicate release_date: 0\n"
     ]
    }
   ],
   "source": [
    "df=df.drop_duplicates(subset='release_date', keep='first')\n",
    "num_duplicates = df['release_date'].duplicated().sum()\n",
    "print(\"Number of duplicate release_date:\", num_duplicates)"
   ]
  },
  {
   "cell_type": "code",
   "execution_count": 34,
   "id": "yXO4yDszOoY_",
   "metadata": {
    "colab": {
     "base_uri": "https://localhost:8080/"
    },
    "id": "yXO4yDszOoY_",
    "outputId": "7af4eecf-4a34-4c74-d9d2-e50731a9551a"
   },
   "outputs": [
    {
     "name": "stdout",
     "output_type": "stream",
     "text": [
      "Number of duplicate popularity: 0\n"
     ]
    }
   ],
   "source": [
    "df=df.drop_duplicates(subset='popularity', keep='first')\n",
    "num_duplicates = df['popularity'].duplicated().sum()\n",
    "print(\"Number of duplicate popularity:\", num_duplicates)"
   ]
  },
  {
   "cell_type": "code",
   "execution_count": 35,
   "id": "4u1xe52HOoWM",
   "metadata": {
    "colab": {
     "base_uri": "https://localhost:8080/"
    },
    "id": "4u1xe52HOoWM",
    "outputId": "81458b3f-3161-4331-edec-dbb1d5219a67"
   },
   "outputs": [
    {
     "name": "stdout",
     "output_type": "stream",
     "text": [
      "Number of duplicate vote_average: 0\n"
     ]
    }
   ],
   "source": [
    "df=df.drop_duplicates(subset='vote_average', keep='first')\n",
    "num_duplicates = df['vote_average'].duplicated().sum()\n",
    "print(\"Number of duplicate vote_average:\", num_duplicates)"
   ]
  },
  {
   "cell_type": "code",
   "execution_count": 36,
   "id": "PXsmJJzQOoTe",
   "metadata": {
    "colab": {
     "base_uri": "https://localhost:8080/"
    },
    "id": "PXsmJJzQOoTe",
    "outputId": "0475d927-4029-466a-cc12-09a4b258a32a"
   },
   "outputs": [
    {
     "name": "stdout",
     "output_type": "stream",
     "text": [
      "Number of duplicate vote_count: 0\n"
     ]
    }
   ],
   "source": [
    "df=df.drop_duplicates(subset='vote_count', keep='first')\n",
    "num_duplicates = df['vote_count'].duplicated().sum()\n",
    "print(\"Number of duplicate vote_count:\", num_duplicates)"
   ]
  },
  {
   "cell_type": "code",
   "execution_count": 37,
   "id": "jeTkm_x7Onq5",
   "metadata": {
    "colab": {
     "base_uri": "https://localhost:8080/"
    },
    "id": "jeTkm_x7Onq5",
    "outputId": "3c5ccb9a-ace1-4656-adba-68afc806dd57"
   },
   "outputs": [
    {
     "name": "stdout",
     "output_type": "stream",
     "text": [
      "Any duplicates left: 0\n"
     ]
    }
   ],
   "source": [
    "print(\"Any duplicates left:\", df.duplicated().sum())"
   ]
  },
  {
   "cell_type": "code",
   "execution_count": 38,
   "id": "5wI3wA8kQP3Y",
   "metadata": {
    "colab": {
     "base_uri": "https://localhost:8080/"
    },
    "id": "5wI3wA8kQP3Y",
    "outputId": "409c02c3-13db-4e87-b073-da13a7596db1"
   },
   "outputs": [
    {
     "name": "stdout",
     "output_type": "stream",
     "text": [
      "All titles unique: True\n"
     ]
    }
   ],
   "source": [
    "all_unique = len(df[['id','title','overview','release_date','popularity','vote_average','vote_count']].drop_duplicates()) == len(df[['id','title','overview','release_date','popularity','vote_average','vote_count']])\n",
    "print(\"All titles unique:\", all_unique)"
   ]
  },
  {
   "cell_type": "code",
   "execution_count": 39,
   "id": "phG8A991Q1SH",
   "metadata": {
    "id": "phG8A991Q1SH"
   },
   "outputs": [],
   "source": [
    "df.to_csv(\"movie_data.csv\", index=False)"
   ]
  },
  {
   "cell_type": "code",
   "execution_count": null,
   "id": "a160be68-7cc9-473a-b694-4e043092a45e",
   "metadata": {},
   "outputs": [],
   "source": []
  }
 ],
 "metadata": {
  "colab": {
   "provenance": []
  },
  "kernelspec": {
   "display_name": "Python 3 (ipykernel)",
   "language": "python",
   "name": "python3"
  },
  "language_info": {
   "codemirror_mode": {
    "name": "ipython",
    "version": 3
   },
   "file_extension": ".py",
   "mimetype": "text/x-python",
   "name": "python",
   "nbconvert_exporter": "python",
   "pygments_lexer": "ipython3",
   "version": "3.12.7"
  },
  "required_libs": []
 },
 "nbformat": 4,
 "nbformat_minor": 5
}
